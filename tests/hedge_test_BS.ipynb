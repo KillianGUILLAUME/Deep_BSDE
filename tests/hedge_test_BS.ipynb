{
 "cells": [
  {
   "cell_type": "code",
   "execution_count": 1,
   "metadata": {},
   "outputs": [
    {
     "ename": "FileNotFoundError",
     "evalue": "[Errno 2] No such file or directory: 'experiments/config.yaml'",
     "output_type": "error",
     "traceback": [
      "\u001b[0;31m---------------------------------------------------------------------------\u001b[0m",
      "\u001b[0;31mFileNotFoundError\u001b[0m                         Traceback (most recent call last)",
      "Cell \u001b[0;32mIn[1], line 4\u001b[0m\n\u001b[1;32m      2\u001b[0m \u001b[38;5;28;01mimport\u001b[39;00m \u001b[38;5;21;01mnumpy\u001b[39;00m \u001b[38;5;28;01mas\u001b[39;00m \u001b[38;5;21;01mnp\u001b[39;00m\n\u001b[1;32m      3\u001b[0m \u001b[38;5;28;01mimport\u001b[39;00m \u001b[38;5;21;01mmatplotlib\u001b[39;00m\u001b[38;5;21;01m.\u001b[39;00m\u001b[38;5;21;01mpyplot\u001b[39;00m \u001b[38;5;28;01mas\u001b[39;00m \u001b[38;5;21;01mplt\u001b[39;00m\n\u001b[0;32m----> 4\u001b[0m \u001b[38;5;28;01mimport\u001b[39;00m \u001b[38;5;21;01mbsde\u001b[39;00m\u001b[38;5;21;01m.\u001b[39;00m\u001b[38;5;21;01mmetrics\u001b[39;00m\n\u001b[1;32m      6\u001b[0m \u001b[38;5;66;03m# import importlib\u001b[39;00m\n\u001b[1;32m      7\u001b[0m \u001b[38;5;66;03m# importlib.reload(bsde.metrics)\u001b[39;00m\n\u001b[1;32m      9\u001b[0m \u001b[38;5;28;01mfrom\u001b[39;00m \u001b[38;5;21;01mpathlib\u001b[39;00m \u001b[38;5;28;01mimport\u001b[39;00m Path\n",
      "File \u001b[0;32m~/Desktop/quant_bsde/bsde/metrics.py:4\u001b[0m\n\u001b[1;32m      1\u001b[0m \u001b[38;5;28;01mimport\u001b[39;00m \u001b[38;5;21;01mtorch\u001b[39;00m\n\u001b[1;32m      2\u001b[0m \u001b[38;5;28;01mimport\u001b[39;00m \u001b[38;5;21;01myaml\u001b[39;00m\n\u001b[0;32m----> 4\u001b[0m \u001b[38;5;28;01mwith\u001b[39;00m \u001b[38;5;28mopen\u001b[39m(\u001b[38;5;124m\"\u001b[39m\u001b[38;5;124mexperiments/config.yaml\u001b[39m\u001b[38;5;124m\"\u001b[39m) \u001b[38;5;28;01mas\u001b[39;00m f:\n\u001b[1;32m      5\u001b[0m     config \u001b[38;5;241m=\u001b[39m yaml\u001b[38;5;241m.\u001b[39msafe_load(f)\n\u001b[1;32m      8\u001b[0m \u001b[38;5;129m@torch\u001b[39m\u001b[38;5;241m.\u001b[39mno_grad()\n\u001b[1;32m      9\u001b[0m \u001b[38;5;28;01mdef\u001b[39;00m \u001b[38;5;21mdelta_hedge\u001b[39m(\n\u001b[1;32m     10\u001b[0m     simulator,\n\u001b[0;32m   (...)\u001b[0m\n\u001b[1;32m     17\u001b[0m     device\u001b[38;5;241m=\u001b[39m\u001b[38;5;124m\"\u001b[39m\u001b[38;5;124mcpu\u001b[39m\u001b[38;5;124m\"\u001b[39m,\n\u001b[1;32m     18\u001b[0m ):\n",
      "\u001b[0;31mFileNotFoundError\u001b[0m: [Errno 2] No such file or directory: 'experiments/config.yaml'"
     ]
    }
   ],
   "source": [
    "import torch, yaml\n",
    "import numpy as np\n",
    "import matplotlib.pyplot as plt\n",
    "import bsde.metrics\n",
    "\n",
    "# import importlib\n",
    "# importlib.reload(bsde.metrics)\n",
    "\n",
    "from pathlib import Path\n",
    "\n",
    "from bsde.solver import DeepBSDESolverBS\n",
    "from bsde.payoff import basket_call\n",
    "from bsde.metrics import delta_hedge_BS\n",
    "from benchmark import MC_sim_BS\n",
    "\n",
    "\n",
    "cfg = yaml.safe_load(Path(\"experiments/config.yaml\").read_text())"
   ]
  },
  {
   "cell_type": "code",
   "execution_count": 2,
   "metadata": {},
   "outputs": [],
   "source": [
    "payoff_func = lambda S: basket_call(S, strike=cfg[\"payoff\"][\"K\"])"
   ]
  },
  {
   "cell_type": "code",
   "execution_count": 3,
   "metadata": {},
   "outputs": [],
   "source": [
    "net_cfg = dict(hidden=64, depth=3)"
   ]
  },
  {
   "cell_type": "code",
   "execution_count": 1,
   "metadata": {},
   "outputs": [
    {
     "ename": "NameError",
     "evalue": "name 'DeepBSDESolverBS' is not defined",
     "output_type": "error",
     "traceback": [
      "\u001b[0;31m---------------------------------------------------------------------------\u001b[0m",
      "\u001b[0;31mNameError\u001b[0m                                 Traceback (most recent call last)",
      "Cell \u001b[0;32mIn[1], line 1\u001b[0m\n\u001b[0;32m----> 1\u001b[0m solver \u001b[38;5;241m=\u001b[39m DeepBSDESolverBS(\n\u001b[1;32m      2\u001b[0m     model_params\u001b[38;5;241m=\u001b[39mcfg[\u001b[38;5;124m\"\u001b[39m\u001b[38;5;124mmodel\u001b[39m\u001b[38;5;124m\"\u001b[39m],\n\u001b[1;32m      3\u001b[0m     payoff_fn\u001b[38;5;241m=\u001b[39mpayoff_func,\n\u001b[1;32m      4\u001b[0m     T\u001b[38;5;241m=\u001b[39mcfg[\u001b[38;5;124m\"\u001b[39m\u001b[38;5;124mT\u001b[39m\u001b[38;5;124m\"\u001b[39m],\n\u001b[1;32m      5\u001b[0m     n_steps\u001b[38;5;241m=\u001b[39mcfg[\u001b[38;5;124m\"\u001b[39m\u001b[38;5;124mn_steps\u001b[39m\u001b[38;5;124m\"\u001b[39m],\n\u001b[1;32m      6\u001b[0m     net_cfg\u001b[38;5;241m=\u001b[39mcfg[\u001b[38;5;124m\"\u001b[39m\u001b[38;5;124mnet\u001b[39m\u001b[38;5;124m\"\u001b[39m] \u001b[38;5;28;01mif\u001b[39;00m \u001b[38;5;124m\"\u001b[39m\u001b[38;5;124mnet\u001b[39m\u001b[38;5;124m\"\u001b[39m \u001b[38;5;129;01min\u001b[39;00m cfg \u001b[38;5;28;01melse\u001b[39;00m net_cfg,\n\u001b[1;32m      7\u001b[0m     lr\u001b[38;5;241m=\u001b[39m\u001b[38;5;241m.5e-4\u001b[39m,\n\u001b[1;32m      8\u001b[0m )\n",
      "\u001b[0;31mNameError\u001b[0m: name 'DeepBSDESolverBS' is not defined"
     ]
    }
   ],
   "source": [
    "solver = DeepBSDESolverBS(\n",
    "    model_params=cfg[\"model\"],\n",
    "    payoff_fn=payoff_func,\n",
    "    T=cfg[\"T\"],\n",
    "    n_steps=cfg[\"n_steps\"],\n",
    "    net_cfg=cfg[\"net\"] if \"net\" in cfg else net_cfg,\n",
    "    lr=.5e-4,\n",
    ")"
   ]
  },
  {
   "cell_type": "code",
   "execution_count": 5,
   "metadata": {},
   "outputs": [
    {
     "data": {
      "text/plain": [
       "FeedForwardNNBS(\n",
       "  (fcn): Sequential(\n",
       "    (0): Linear(in_features=11, out_features=128, bias=True)\n",
       "    (1): ReLU()\n",
       "    (2): Linear(in_features=128, out_features=128, bias=True)\n",
       "    (3): ReLU()\n",
       "    (4): Linear(in_features=128, out_features=128, bias=True)\n",
       "    (5): ReLU()\n",
       "    (6): Linear(in_features=128, out_features=128, bias=True)\n",
       "    (7): Tanh()\n",
       "  )\n",
       "  (y_head): Linear(in_features=128, out_features=1, bias=True)\n",
       "  (z_head): Linear(in_features=128, out_features=10, bias=True)\n",
       ")"
      ]
     },
     "execution_count": 5,
     "metadata": {},
     "output_type": "execute_result"
    }
   ],
   "source": [
    "solver.net.load_state_dict(torch.load(\"mod/bsde_blackscholes.pt\",map_location=\"cpu\"))\n",
    "solver.net.eval()"
   ]
  },
  {
   "cell_type": "code",
   "execution_count": 6,
   "metadata": {},
   "outputs": [
    {
     "data": {
      "image/png": "[encoded data removed]",
      "text/plain": [
       "<Figure size 640x480 with 1 Axes>"
      ]
     },
     "metadata": {},
     "output_type": "display_data"
    },
    {
     "name": "stdout",
     "output_type": "stream",
     "text": [
      " mean  : 0.0012165323132649064\n",
      " stdev : 0.05171240493655205\n"
     ]
    }
   ],
   "source": [
    "pnl = delta_hedge_BS(\n",
    "    simulator =solver.simulator,\n",
    "    net       = solver.net,      \n",
    "    payoff_fn = payoff_func,\n",
    "    n_paths   = 10_000,             # assez pour voir la distribution\n",
    "    n_steps   = cfg[\"n_steps\"],\n",
    "    T         = cfg[\"T\"]\n",
    ")\n",
    "\n",
    "plt.hist(pnl, bins=40, density=True)\n",
    "plt.axvline(pnl.mean(), color=\"r\", label=f\"mean={pnl.mean():.4e}\")\n",
    "plt.title(\"Distribution P&L – delta-hedge lookback\")\n",
    "plt.xlabel(\"P&L\"); plt.legend(); plt.show()\n",
    "\n",
    "print(\" mean  :\", pnl.mean().item())\n",
    "print(\" stdev :\", pnl.std().item())"
   ]
  },
  {
   "cell_type": "code",
   "execution_count": 16,
   "metadata": {},
   "outputs": [
    {
     "name": "stdout",
     "output_type": "stream",
     "text": [
      "MC basket call | Price : 0.04045470803976059 | ci : ±0.0010991204395890235\n",
      " [3.94e-02, 4.16e-02]\n",
      "BSDE Price : 4.61e-02\n"
     ]
    }
   ],
   "source": [
    "price_mc_bs, ci95_bs = MC_sim_BS(\n",
    "    model=solver.simulator,\n",
    "    payoff_fn=payoff_func,\n",
    "    n_paths=10_000,\n",
    "    n_steps=cfg[\"n_steps\"],\n",
    "    T=cfg[\"T\"],\n",
    ")\n",
    "\n",
    "print(f\"MC basket call | Price : {price_mc_bs} | ci : ±{ci95_bs}\\n [{(price_mc_bs - ci95_bs):.2e}, {(price_mc_bs + ci95_bs):.2e}]\")\n",
    "print(f'BSDE Price : {solver.predict():.2e}')"
   ]
  }
 ],
 "metadata": {
  "kernelspec": {
   "display_name": "base",
   "language": "python",
   "name": "python3"
  },
  "language_info": {
   "codemirror_mode": {
    "name": "ipython",
    "version": 3
   },
   "file_extension": ".py",
   "mimetype": "text/x-python",
   "name": "python",
   "nbconvert_exporter": "python",
   "pygments_lexer": "ipython3",
   "version": "3.12.4"
  }
 },
 "nbformat": 4,
 "nbformat_minor": 2
}
